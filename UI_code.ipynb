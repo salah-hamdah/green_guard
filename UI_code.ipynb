{
 "cells": [
  {
   "cell_type": "code",
   "execution_count": 1,
   "id": "9e267786-1a60-4453-b384-22ed70303be6",
   "metadata": {},
   "outputs": [
    {
     "name": "stdout",
     "output_type": "stream",
     "text": [
      "Requirement already satisfied: kivy in c:\\users\\e4ekhan\\anaconda3\\lib\\site-packages (2.3.1)\n",
      "Requirement already satisfied: Kivy-Garden>=0.1.4 in c:\\users\\e4ekhan\\anaconda3\\lib\\site-packages (from kivy) (0.1.5)\n",
      "Requirement already satisfied: docutils in c:\\users\\e4ekhan\\anaconda3\\lib\\site-packages (from kivy) (0.18.1)\n",
      "Requirement already satisfied: pygments in c:\\users\\e4ekhan\\anaconda3\\lib\\site-packages (from kivy) (2.15.1)\n",
      "Requirement already satisfied: requests in c:\\users\\e4ekhan\\anaconda3\\lib\\site-packages (from kivy) (2.32.3)\n",
      "Requirement already satisfied: filetype in c:\\users\\e4ekhan\\anaconda3\\lib\\site-packages (from kivy) (1.2.0)\n",
      "Requirement already satisfied: kivy-deps.angle~=0.4.0 in c:\\users\\e4ekhan\\anaconda3\\lib\\site-packages (from kivy) (0.4.0)\n",
      "Requirement already satisfied: kivy-deps.sdl2~=0.8.0 in c:\\users\\e4ekhan\\anaconda3\\lib\\site-packages (from kivy) (0.8.0)\n",
      "Requirement already satisfied: kivy-deps.glew~=0.3.1 in c:\\users\\e4ekhan\\anaconda3\\lib\\site-packages (from kivy) (0.3.1)\n",
      "Requirement already satisfied: pypiwin32 in c:\\users\\e4ekhan\\anaconda3\\lib\\site-packages (from kivy) (223)\n",
      "Requirement already satisfied: pywin32>=223 in c:\\users\\e4ekhan\\anaconda3\\lib\\site-packages (from pypiwin32->kivy) (305.1)\n",
      "Requirement already satisfied: charset-normalizer<4,>=2 in c:\\users\\e4ekhan\\anaconda3\\lib\\site-packages (from requests->kivy) (3.3.2)\n",
      "Requirement already satisfied: idna<4,>=2.5 in c:\\users\\e4ekhan\\anaconda3\\lib\\site-packages (from requests->kivy) (3.7)\n",
      "Requirement already satisfied: urllib3<3,>=1.21.1 in c:\\users\\e4ekhan\\anaconda3\\lib\\site-packages (from requests->kivy) (2.2.3)\n",
      "Requirement already satisfied: certifi>=2017.4.17 in c:\\users\\e4ekhan\\anaconda3\\lib\\site-packages (from requests->kivy) (2025.1.31)\n",
      "Note: you may need to restart the kernel to use updated packages.\n"
     ]
    }
   ],
   "source": [
    "pip install kivy"
   ]
  },
  {
   "cell_type": "code",
   "execution_count": 1,
   "id": "ac56c2cc-0e40-4077-9ead-31c23f12d8af",
   "metadata": {},
   "outputs": [
    {
     "name": "stderr",
     "output_type": "stream",
     "text": [
      "[INFO   ] [Logger      ] Record log in C:\\Users\\e4ekhan\\.kivy\\logs\\kivy_25-03-16_3.txt\n",
      "[INFO   ] [deps        ] Successfully imported \"kivy_deps.angle\" 0.4.0\n",
      "[INFO   ] [deps        ] Successfully imported \"kivy_deps.glew\" 0.3.1\n",
      "[INFO   ] [deps        ] Successfully imported \"kivy_deps.sdl2\" 0.8.0\n",
      "[INFO   ] [Kivy        ] v2.3.1\n",
      "[INFO   ] [Kivy        ] Installed at \"C:\\Users\\e4ekhan\\anaconda3\\Lib\\site-packages\\kivy\\__init__.py\"\n",
      "[INFO   ] [Python      ] v3.12.7 | packaged by Anaconda, Inc. | (main, Oct  4 2024, 13:17:27) [MSC v.1929 64 bit (AMD64)]\n",
      "[INFO   ] [Python      ] Interpreter at \"C:\\Users\\e4ekhan\\anaconda3\\python.exe\"\n",
      "[INFO   ] [Logger      ] Purge log fired. Processing...\n",
      "[INFO   ] [Logger      ] Purge finished!\n",
      "[INFO   ] [Factory     ] 195 symbols loaded\n",
      "[INFO   ] [Image       ] Providers: img_tex, img_dds, img_sdl2, img_pil (img_ffpyplayer ignored)\n",
      "[INFO   ] [Window      ] Provider: sdl2\n",
      "[INFO   ] [GL          ] Using the \"OpenGL\" graphics system\n",
      "[INFO   ] [GL          ] GLEW initialization succeeded\n",
      "[INFO   ] [GL          ] Backend used <glew>\n",
      "[INFO   ] [GL          ] OpenGL version <b'4.6.0 NVIDIA 553.05'>\n",
      "[INFO   ] [GL          ] OpenGL vendor <b'NVIDIA Corporation'>\n",
      "[INFO   ] [GL          ] OpenGL renderer <b'Quadro T1000/PCIe/SSE2'>\n",
      "[INFO   ] [GL          ] OpenGL parsed version: 4, 6\n",
      "[INFO   ] [GL          ] Shading version <b'4.60 NVIDIA'>\n",
      "[INFO   ] [GL          ] Texture max size <32768>\n",
      "[INFO   ] [GL          ] Texture max units <32>\n",
      "[INFO   ] [Window      ] auto add sdl2 input provider\n",
      "[INFO   ] [Window      ] virtual keyboard not allowed, single mode, not docked\n",
      "[INFO   ] [Text        ] Provider: sdl2\n",
      "[INFO   ] [Camera      ] Provider: opencv(['camera_picamera', 'camera_gi'] ignored)\n",
      "[INFO   ] [Base        ] Start application main loop\n",
      "[INFO   ] [GL          ] NPOT texture support is available\n",
      "[INFO   ] [GL          ] BGRA texture support is available\n",
      "[INFO   ] [Base        ] Leaving application in progress...\n",
      "[ERROR  ] [Base        ] No event listeners have been created\n",
      "[ERROR  ] [Base        ] Application will leave\n"
     ]
    }
   ],
   "source": [
    "import os\n",
    "import sys\n",
    "import inspect\n",
    "import numpy as np\n",
    "import cv2\n",
    "import tensorflow as tf\n",
    "from tensorflow import keras\n",
    "from kivy.app import App\n",
    "from kivy.core.window import Window\n",
    "from kivy.uix.boxlayout import BoxLayout\n",
    "from kivy.uix.button import Button\n",
    "from kivy.uix.label import Label\n",
    "from kivy.uix.camera import Camera\n",
    "from kivy.uix.image import Image\n",
    "\n",
    "#from kivy.app import App\n",
    "#from kivy.uix.boxlayout import BoxLayout\n",
    "#from kivy.uix.button import Button\n",
    "#from kivy.uix.image import Image\n",
    "#from kivy.graphics.texture import Texture\n",
    "#from kivy.uix.label import Label\n",
    "# from kivy.core.camera import Camera"
   ]
  },
  {
   "cell_type": "code",
   "execution_count": 3,
   "id": "dbc14ee1-4959-4150-a878-d76e5b659951",
   "metadata": {},
   "outputs": [],
   "source": [
    "sys.modules['__main__'].__file__ = inspect.getfile(lambda: None)"
   ]
  },
  {
   "cell_type": "code",
   "execution_count": 5,
   "id": "78453b4d-7af1-4734-933c-638b10e3fbd8",
   "metadata": {},
   "outputs": [],
   "source": [
    "categories = {\n",
    "0: \"Compostable\",\n",
    "1: \"Ewaste\",\n",
    "2: \"Hazardous\",\n",
    "3: \"Recyclables\",\n",
    "4: \"Textile\"\n",
    "}"
   ]
  },
  {
   "cell_type": "code",
   "execution_count": 7,
   "id": "6be13ebf-860f-4d41-837f-772d8ff2f68b",
   "metadata": {},
   "outputs": [],
   "source": [
    "model = keras.models. load_model('NewModel.keras')"
   ]
  },
  {
   "cell_type": "code",
   "execution_count": 9,
   "id": "4aeb72d1-7f5b-4d13-b2ef-603af71a6b56",
   "metadata": {},
   "outputs": [],
   "source": [
    "class TrashRecognitionApp(App):\n",
    "    def build(self):\n",
    "        #self.icon = None\n",
    "        self.layout = BoxLayout(orientation='vertical', spacing=10, padding=20)\n",
    "\n",
    "        # add camera\n",
    "        self.camera = Camera(resolution=(640, 480), play=True)\n",
    "        self.layout.add_widget(self.camera)\n",
    "\n",
    "        # capture button\n",
    "        self.capture_button = Button(\n",
    "            text='Capture & Predict', \n",
    "            size_hint=(1, 0.2),\n",
    "            background_color=(0.2, 0.6, 0.8, 1),\n",
    "            font_size=20\n",
    "        )\n",
    "        \n",
    "        self.capture_button.bind(on_press=self.capture)\n",
    "        #self.layout.add_widget(self.capture_button)\n",
    "        #self.capture_button = Button(text='Capture')\n",
    "        #self.capture_button.bind(on_press=self.capture)\n",
    "        self.layout.add_widget(self.capture_button)\n",
    "\n",
    "        # Exit Button\n",
    "        self.exit_button = Button(\n",
    "            text='Exit App',\n",
    "            size_hint=(1, 0.2),\n",
    "            background_color=(0.8, 0.2, 0.2, 1),\n",
    "            font_size=18\n",
    "        )\n",
    "        self.exit_button.bind(on_press=self.exit_app)\n",
    "        self.layout.add_widget(self.exit_button)\n",
    "\n",
    "        # Prediction Label\n",
    "        self.result_label = Label(\n",
    "            text=\"Prediction: Waiting...\",\n",
    "            font_size=20,\n",
    "            color=(1, 1, 1, 1),\n",
    "            bold=True\n",
    "        )\n",
    "        #self.result_label = Label(text=\"Prediction: \")\n",
    "        self.layout.add_widget(self.result_label)\n",
    "\n",
    "        return self.layout\n",
    "\n",
    "    def capture(self, instance):\n",
    "        # Capture the frame from the camera\n",
    "        texture = self.camera.texture\n",
    "        if texture:\n",
    "            image_data = np.frombuffer(texture.pixels, dtype=np.uint8)\n",
    "            image_data = image_data.reshape((texture.height, texture.width, 4))\n",
    "            image_data = cv2.cvtColor(image_data, cv2.COLOR_RGBA2BGR)\n",
    "\n",
    "            # Preprocess the image\n",
    "            resized_image = cv2.resize(image_data, (224, 224))\n",
    "            input_img = np.expand_dims(resized_image, axis=0)\n",
    "\n",
    "            # Predict\n",
    "            result = model.predict(input_img)\n",
    "            r = np.argmax(result)\n",
    "\n",
    "            # Update the label\n",
    "            self.result_label.text = f\"Prediction: {categories[r]}\"\n",
    "\n",
    "    def exit_app(self, instance):\n",
    "        if self.camera.play:\n",
    "            self.camera.play = False\n",
    "\n",
    "        Window.close()            \n",
    "        App.get_running_app().stop()"
   ]
  },
  {
   "cell_type": "code",
   "execution_count": 11,
   "id": "f2f0d322-05b1-4a62-a05a-c6d9d143f364",
   "metadata": {},
   "outputs": [
    {
     "name": "stdout",
     "output_type": "stream",
     "text": [
      "\u001b[1m1/1\u001b[0m \u001b[32m━━━━━━━━━━━━━━━━━━━━\u001b[0m\u001b[37m\u001b[0m \u001b[1m2s\u001b[0m 2s/step\n",
      "\u001b[1m1/1\u001b[0m \u001b[32m━━━━━━━━━━━━━━━━━━━━\u001b[0m\u001b[37m\u001b[0m \u001b[1m0s\u001b[0m 106ms/step\n",
      "\u001b[1m1/1\u001b[0m \u001b[32m━━━━━━━━━━━━━━━━━━━━\u001b[0m\u001b[37m\u001b[0m \u001b[1m0s\u001b[0m 105ms/step\n",
      "\u001b[1m1/1\u001b[0m \u001b[32m━━━━━━━━━━━━━━━━━━━━\u001b[0m\u001b[37m\u001b[0m \u001b[1m0s\u001b[0m 107ms/step\n",
      "\u001b[1m1/1\u001b[0m \u001b[32m━━━━━━━━━━━━━━━━━━━━\u001b[0m\u001b[37m\u001b[0m \u001b[1m0s\u001b[0m 104ms/step\n",
      "\u001b[1m1/1\u001b[0m \u001b[32m━━━━━━━━━━━━━━━━━━━━\u001b[0m\u001b[37m\u001b[0m \u001b[1m0s\u001b[0m 104ms/step\n",
      "\u001b[1m1/1\u001b[0m \u001b[32m━━━━━━━━━━━━━━━━━━━━\u001b[0m\u001b[37m\u001b[0m \u001b[1m0s\u001b[0m 104ms/step\n",
      "\u001b[1m1/1\u001b[0m \u001b[32m━━━━━━━━━━━━━━━━━━━━\u001b[0m\u001b[37m\u001b[0m \u001b[1m0s\u001b[0m 103ms/step\n",
      "\u001b[1m1/1\u001b[0m \u001b[32m━━━━━━━━━━━━━━━━━━━━\u001b[0m\u001b[37m\u001b[0m \u001b[1m0s\u001b[0m 103ms/step\n",
      "\u001b[1m1/1\u001b[0m \u001b[32m━━━━━━━━━━━━━━━━━━━━\u001b[0m\u001b[37m\u001b[0m \u001b[1m0s\u001b[0m 106ms/step\n",
      "\u001b[1m1/1\u001b[0m \u001b[32m━━━━━━━━━━━━━━━━━━━━\u001b[0m\u001b[37m\u001b[0m \u001b[1m0s\u001b[0m 109ms/step\n",
      "\u001b[1m1/1\u001b[0m \u001b[32m━━━━━━━━━━━━━━━━━━━━\u001b[0m\u001b[37m\u001b[0m \u001b[1m0s\u001b[0m 102ms/step\n"
     ]
    }
   ],
   "source": [
    "if __name__ == '__main__':\n",
    "    TrashRecognitionApp().run()"
   ]
  },
  {
   "cell_type": "code",
   "execution_count": null,
   "id": "de71ecc3-189c-45fe-a6cb-5cc9afb34813",
   "metadata": {},
   "outputs": [],
   "source": []
  }
 ],
 "metadata": {
  "kernelspec": {
   "display_name": "Python [conda env:base] *",
   "language": "python",
   "name": "conda-base-py"
  },
  "language_info": {
   "codemirror_mode": {
    "name": "ipython",
    "version": 3
   },
   "file_extension": ".py",
   "mimetype": "text/x-python",
   "name": "python",
   "nbconvert_exporter": "python",
   "pygments_lexer": "ipython3",
   "version": "3.12.7"
  }
 },
 "nbformat": 4,
 "nbformat_minor": 5
}
